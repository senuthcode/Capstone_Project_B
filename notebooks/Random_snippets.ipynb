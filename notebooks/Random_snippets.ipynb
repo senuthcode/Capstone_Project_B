{
 "cells": [
  {
   "cell_type": "code",
   "execution_count": 3,
   "id": "8a5d7178",
   "metadata": {},
   "outputs": [
    {
     "name": "stdout",
     "output_type": "stream",
     "text": [
      "768 [1.5742555856704712, 1.3248658180236816, -3.011218547821045, -1.5568761825561523, 0.3055654764175415, 0.9362785816192627, 0.8319445848464966, 1.15894615650177]\n"
     ]
    }
   ],
   "source": [
    "from ollama import Client\n",
    "\n",
    "client = Client(host='http://localhost:11434')  # default Ollama host\n",
    "resp = client.embeddings(model='nomic-embed-text', prompt=\"What is dimensionality reduction?\")\n",
    "vec = resp[\"embedding\"]\n",
    "print(len(vec), vec[:8])  # length and a preview\n"
   ]
  },
  {
   "cell_type": "code",
   "execution_count": null,
   "id": "9877ac96",
   "metadata": {},
   "outputs": [],
   "source": []
  },
  {
   "cell_type": "code",
   "execution_count": 4,
   "id": "bf0d5a54",
   "metadata": {},
   "outputs": [
    {
     "name": "stdout",
     "output_type": "stream",
     "text": [
      "768 2 768\n"
     ]
    },
    {
     "name": "stderr",
     "output_type": "stream",
     "text": [
      "/var/folders/k7/w3wlkgdj2bdd17bdg7w4fvdc0000gn/T/ipykernel_73706/3108268676.py:3: LangChainDeprecationWarning: The class `OllamaEmbeddings` was deprecated in LangChain 0.3.1 and will be removed in 1.0.0. An updated version of the class exists in the :class:`~langchain-ollama package and should be used instead. To use it run `pip install -U :class:`~langchain-ollama` and import as `from :class:`~langchain_ollama import OllamaEmbeddings``.\n",
      "  emb = OllamaEmbeddings(model='nomic-embed-text')  # or 'mxbai-embed-large'\n"
     ]
    }
   ],
   "source": [
    "from langchain_community.embeddings import OllamaEmbeddings\n",
    "\n",
    "emb = OllamaEmbeddings(model='nomic-embed-text')  # or 'mxbai-embed-large'\n",
    "q_vec = emb.embed_query(\"What is dimensionality reduction?\")\n",
    "docs_vecs = emb.embed_documents([\n",
    "    \"Who is Laurens van der Maaten?\",\n",
    "    \"What is dimensionality reduction?\",\n",
    "])\n",
    "print(len(q_vec), len(docs_vecs), len(docs_vecs[0]))\n"
   ]
  },
  {
   "cell_type": "code",
   "execution_count": null,
   "id": "e584e337",
   "metadata": {},
   "outputs": [],
   "source": [
    "import os\n",
    "os.makedirs(\"figures\", exist_ok=True)\n",
    "\n",
    "# For matplotlib figures\n",
    "plt.savefig(\"figures/umap_education_resumes.png\", dpi=300, bbox_inches='tight')\n",
    "print(\"Saved: figures/umap_education_resumes.png\")"
   ]
  },
  {
   "cell_type": "code",
   "execution_count": null,
   "id": "8e27c359",
   "metadata": {},
   "outputs": [],
   "source": [
    "import os\n",
    "os.makedirs(\"figures\", exist_ok=True)\n",
    "\n",
    "fig.write_image(\"figures/umap_education_resumes.png\", width=1000, height=700, scale=2)\n",
    "print(\"Saved: figures/umap_education_resumes.png\")"
   ]
  },
  {
   "cell_type": "code",
   "execution_count": null,
   "id": "25e8608b",
   "metadata": {},
   "outputs": [],
   "source": [
    "from langchain_community.embeddings import HuggingFaceEmbeddings\n",
    "from langchain_community.vectorstores import Chroma\n",
    "import os\n",
    "from collections import OrderedDict\n",
    "\n",
    "# Step 1: Set up embeddings (your familiar model)\n",
    "print(\"🔄 Loading embedding model...\")\n",
    "embeddings = HuggingFaceEmbeddings(\n",
    "    model_name=\"sentence-transformers/all-MiniLM-L6-v2\",\n",
    "    model_kwargs={'device': 'mps'},  # Change to 'cuda' if you have GPU\n",
    "    encode_kwargs={'normalize_embeddings': True}\n",
    ")\n",
    "\n",
    "# Step 2: Create Chroma vector store\n",
    "print(\"🔄 Creating Chroma vector store...\")\n",
    "# This will create a persistent database in ./chroma_db directory\n",
    "vectorstore = Chroma.from_documents(\n",
    "    documents=split_documents,  # Your LangChain documents from previous step\n",
    "    embedding=embeddings,\n",
    "    persist_directory=\"./chroma_db\",  # Where to save the database\n",
    "    collection_name=\"resume_collection\"\n",
    ")\n",
    "\n",
    "def deduplicate_by_resume_id(docs, k=5):\n",
    "    \"\"\"\n",
    "    Remove duplicate resumes, keeping only the highest-scoring chunk per resume_id\n",
    "    \"\"\"\n",
    "    seen_resumes = OrderedDict()\n",
    "    \n",
    "    for doc in docs:\n",
    "        resume_id = doc.metadata['resume_id']\n",
    "        if resume_id not in seen_resumes:\n",
    "            seen_resumes[resume_id] = doc\n",
    "        # If we've seen this resume before, we keep the first one (highest scoring)\n",
    "\n",
    "print(f\"✅ Created Chroma vector store with {len(split_documents)} documents\")\n",
    "print(f\"📁 Database saved to: ./chroma_db\")\n",
    "\n",
    "# Step 3: Test the vector store\n",
    "print(\"\\n🧪 Testing vector store...\")\n",
    "test_query = \"Python developer with machine learning experience\"\n",
    "results = vectorstore.similarity_search(test_query, k=3)\n",
    "\n",
    "print(f\"Query: '{test_query}'\")\n",
    "print(\"Top 3 matches:\")\n",
    "for i, doc in enumerate(results):\n",
    "    print(f\"\\n{i+1}. Category: {doc.metadata['category']}\")\n",
    "    print(f\"   Resume ID: {doc.metadata['resume_id']}\")\n",
    "    print(f\"   Word count: {doc.metadata['word_count']}\")\n",
    "    print(f\"   Content preview: {doc.page_content[:150]}...\")"
   ]
  }
 ],
 "metadata": {
  "kernelspec": {
   "display_name": "capstone-nlp",
   "language": "python",
   "name": "python3"
  },
  "language_info": {
   "codemirror_mode": {
    "name": "ipython",
    "version": 3
   },
   "file_extension": ".py",
   "mimetype": "text/x-python",
   "name": "python",
   "nbconvert_exporter": "python",
   "pygments_lexer": "ipython3",
   "version": "3.11.13"
  }
 },
 "nbformat": 4,
 "nbformat_minor": 5
}
